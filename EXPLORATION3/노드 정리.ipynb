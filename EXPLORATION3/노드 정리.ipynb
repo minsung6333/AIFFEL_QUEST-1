{
 "cells": [
  {
   "cell_type": "markdown",
   "id": "dd6674b3",
   "metadata": {},
   "source": [
    "# 카메라 스티커앱 만들기"
   ]
  },
  {
   "cell_type": "markdown",
   "id": "5649b77a",
   "metadata": {},
   "source": [
    "## 사전 준비하기\n",
    "- 얼굴이 포함된 사진을 준비하고\n",
    "- 사진으로부터 얼굴 영역 face landmark 를 찾아냅니다. (landmark를 찾기 위해서는 얼굴의 bounding box를 먼저 찾아야합니다.)\n",
    "- 찾아진 영역으로 부터 스티커를 붙여넣겠습니다.\n",
    "\n",
    "## 얼굴 검출 face detection\n",
    "- 뒤에 나오는 landmark보다 더 큰 범위로 keypoint detection\n",
    "    ㄴ face landmark 데이터셋은 눈, 코, 입과 턱을 포함\n",
    "- dlib detector\n",
    "\n",
    "## 얼굴 랜드마크 face landmark\n",
    "\n",
    "- 스티커를 세밀하고 자연스럽게 적용하기 위해서 눈, 코, 입, 귀와 같은 얼굴 각각의 위치를 아는 것이 중요\n",
    "\n",
    "    ㄴ 이 위치들을 찾아내는 기술을 랜드마크 landmark 또는 조정 alignment \n",
    "- 이목구비의 위치를 추론하는 것을 face landmark localization 기술\n",
    "- face landmark는 detection 의 결과물인 bounding box 로 잘라낸(crop) 얼굴 이미지를 이용\n",
    "1. top-down : bounding box를 찾고 box 내부의 keypoint를 예측\n",
    "2. bottom-up : 이미지 전체의 keypoint를 먼저 찾고 point 관계를 이용해 군집화 해서 box 생성\n",
    "\n",
    "## 스티커 적용하기"
   ]
  },
  {
   "cell_type": "code",
   "execution_count": null,
   "id": "7e9e52de",
   "metadata": {},
   "outputs": [],
   "source": []
  }
 ],
 "metadata": {
  "kernelspec": {
   "display_name": "Python 3 (ipykernel)",
   "language": "python",
   "name": "python3"
  },
  "language_info": {
   "codemirror_mode": {
    "name": "ipython",
    "version": 3
   },
   "file_extension": ".py",
   "mimetype": "text/x-python",
   "name": "python",
   "nbconvert_exporter": "python",
   "pygments_lexer": "ipython3",
   "version": "3.9.7"
  }
 },
 "nbformat": 4,
 "nbformat_minor": 5
}
