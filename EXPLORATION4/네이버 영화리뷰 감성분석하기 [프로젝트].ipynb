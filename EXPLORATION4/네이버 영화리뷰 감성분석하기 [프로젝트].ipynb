{
 "cells": [
  {
   "cell_type": "code",
   "execution_count": 1,
   "id": "b0c75bf6",
   "metadata": {},
   "outputs": [
    {
     "name": "stdout",
     "output_type": "stream",
     "text": [
      "1.3.3\n",
      "0.5.2\n",
      "4.1.2\n"
     ]
    }
   ],
   "source": [
    "import pandas\n",
    "import konlpy\n",
    "import gensim\n",
    "\n",
    "print(pandas.__version__)\n",
    "print(konlpy.__version__)\n",
    "print(gensim.__version__)"
   ]
  },
  {
   "cell_type": "markdown",
   "id": "aff564d2",
   "metadata": {},
   "source": [
    "1) 데이터 준비와 확인"
   ]
  },
  {
   "cell_type": "code",
   "execution_count": 2,
   "id": "c8bd65c9",
   "metadata": {
    "scrolled": true
   },
   "outputs": [
    {
     "data": {
      "text/html": [
       "<div>\n",
       "<style scoped>\n",
       "    .dataframe tbody tr th:only-of-type {\n",
       "        vertical-align: middle;\n",
       "    }\n",
       "\n",
       "    .dataframe tbody tr th {\n",
       "        vertical-align: top;\n",
       "    }\n",
       "\n",
       "    .dataframe thead th {\n",
       "        text-align: right;\n",
       "    }\n",
       "</style>\n",
       "<table border=\"1\" class=\"dataframe\">\n",
       "  <thead>\n",
       "    <tr style=\"text-align: right;\">\n",
       "      <th></th>\n",
       "      <th>id</th>\n",
       "      <th>document</th>\n",
       "      <th>label</th>\n",
       "    </tr>\n",
       "  </thead>\n",
       "  <tbody>\n",
       "    <tr>\n",
       "      <th>0</th>\n",
       "      <td>9976970</td>\n",
       "      <td>아 더빙.. 진짜 짜증나네요 목소리</td>\n",
       "      <td>0</td>\n",
       "    </tr>\n",
       "    <tr>\n",
       "      <th>1</th>\n",
       "      <td>3819312</td>\n",
       "      <td>흠...포스터보고 초딩영화줄....오버연기조차 가볍지 않구나</td>\n",
       "      <td>1</td>\n",
       "    </tr>\n",
       "    <tr>\n",
       "      <th>2</th>\n",
       "      <td>10265843</td>\n",
       "      <td>너무재밓었다그래서보는것을추천한다</td>\n",
       "      <td>0</td>\n",
       "    </tr>\n",
       "    <tr>\n",
       "      <th>3</th>\n",
       "      <td>9045019</td>\n",
       "      <td>교도소 이야기구먼 ..솔직히 재미는 없다..평점 조정</td>\n",
       "      <td>0</td>\n",
       "    </tr>\n",
       "    <tr>\n",
       "      <th>4</th>\n",
       "      <td>6483659</td>\n",
       "      <td>사이몬페그의 익살스런 연기가 돋보였던 영화!스파이더맨에서 늙어보이기만 했던 커스틴 ...</td>\n",
       "      <td>1</td>\n",
       "    </tr>\n",
       "  </tbody>\n",
       "</table>\n",
       "</div>"
      ],
      "text/plain": [
       "         id                                           document  label\n",
       "0   9976970                                아 더빙.. 진짜 짜증나네요 목소리      0\n",
       "1   3819312                  흠...포스터보고 초딩영화줄....오버연기조차 가볍지 않구나      1\n",
       "2  10265843                                  너무재밓었다그래서보는것을추천한다      0\n",
       "3   9045019                      교도소 이야기구먼 ..솔직히 재미는 없다..평점 조정      0\n",
       "4   6483659  사이몬페그의 익살스런 연기가 돋보였던 영화!스파이더맨에서 늙어보이기만 했던 커스틴 ...      1"
      ]
     },
     "execution_count": 2,
     "metadata": {},
     "output_type": "execute_result"
    }
   ],
   "source": [
    "import pandas as pd\n",
    "import tensorflow as tf\n",
    "\n",
    "# 데이터를 읽어봅시다. \n",
    "train_data = pd.read_table('~/aiffel/sentiment_classification/data/ratings_train.txt')\n",
    "test_data = pd.read_table('~/aiffel/sentiment_classification/data/ratings_test.txt')\n",
    "\n",
    "train_data.head()"
   ]
  },
  {
   "cell_type": "markdown",
   "id": "2f87e790",
   "metadata": {},
   "source": [
    "2) 데이터로더 구성\n",
    "\n",
    "실습 때 다루었던 IMDB 데이터셋은 텍스트를 가공하여 imdb.data_loader() 메서드를 호출하면 숫자 인덱스로 변환된 텍스트와 word_to_index 딕셔너리까지 친절하게 제공합니다. 그러나 이번에 다루게 될 nsmc 데이터셋은 전혀 가공되지 않은 텍스트 파일로 이루어져 있습니다. 이것을 읽어서 imdb.data_loader()와 동일하게 동작하는 자신만의 data_loader를 만들어 보는 것으로 시작합니다. data_loader 안에서는 다음을 수행해야 합니다.\n",
    "\n",
    "- 데이터의 중복 제거\n",
    "- NaN 결측치 제거\n",
    "- 한국어 토크나이저로 토큰화\n",
    "- 불용어(Stopwords) 제거\n",
    "- 사전word_to_index 구성\n",
    "- 텍스트 스트링을 사전 인덱스 스트링으로 변환\n",
    "- X_train, y_train, X_test, y_test, word_to_index 리턴"
   ]
  },
  {
   "cell_type": "code",
   "execution_count": 3,
   "id": "c0bb98d4",
   "metadata": {},
   "outputs": [],
   "source": [
    "from konlpy.tag import Mecab\n",
    "import numpy as np\n",
    "from collections import Counter\n",
    "\n",
    "tokenizer = Mecab() # Mecab 토크나이저 초기화\n",
    "stopwords = ['의','가','이','은','들','는','좀','잘','걍','과','도','를','으로','자','에','와','한','하다'] # 불용어(stopwords) 정의 - 텍스트 분석에서 제외되어야 하는 단어로, 이 목록에 포함된 단어들은 토큰화 후에 제거\n",
    "\n",
    "def load_data(train_data, test_data, num_words=10000):\n",
    "    # 중복된 문장과 누락된 데이터 제거\n",
    "    train_data.drop_duplicates(subset=['document'], inplace=True)\n",
    "    train_data = train_data.dropna(how = 'any') \n",
    "    test_data.drop_duplicates(subset=['document'], inplace=True)\n",
    "    test_data = test_data.dropna(how = 'any') \n",
    "    \n",
    "    X_train = []\n",
    "    for sentence in train_data['document']:\n",
    "        # 문장을 토큰화하고 불용어 제거\n",
    "        temp_X = tokenizer.morphs(sentence) # 토큰화\n",
    "        temp_X = [word for word in temp_X if not word in stopwords] # 불용어 제거\n",
    "        X_train.append(temp_X)\n",
    "\n",
    "    X_test = []\n",
    "    for sentence in test_data['document']:\n",
    "        # 문장을 토큰화하고 불용어 제거\n",
    "        temp_X = tokenizer.morphs(sentence) # 토큰화\n",
    "        temp_X = [word for word in temp_X if not word in stopwords] # 불용어 제거\n",
    "        X_test.append(temp_X)\n",
    "        \n",
    "    # 학습 데이터에서 가장 많이 등장하는 단어를 선택하여 단어 집합(vocabulary) 구성\n",
    "    words = np.concatenate(X_train).tolist() # words에는 학습 데이터에 등장한 모든 단어가 포함된 리스트가 저장\n",
    "    counter = Counter(words) # Counter 클래스를 사용하여 words 리스트 내의 각 단어의 빈도수를 계산\n",
    "    counter = counter.most_common(10000-4) # 빈도수가 가장 높은 단어부터 내림차순으로 정렬된 리스트를 생성, -4를 하는 이유는 이전에 4개의 예약어를 추가했기 때문\n",
    "    vocab = ['', '', '', ''] + [key for key, _ in counter] # 처음 4개의 요소가 빈 문자열('')로 초기화 그리고 이어서 상위 단어들이 추가\n",
    "    word_to_index = {word:index for index, word in enumerate(vocab)} # 딕셔너리\n",
    "    \n",
    "    # 처음 몇 개 인덱스는 사전에 정의되어 있습니다.\n",
    "    word_to_index[\"<PAD>\"] = 0\n",
    "    word_to_index[\"<BOS>\"] = 1\n",
    "    word_to_index[\"<UNK>\"] = 2  # unknown\n",
    "    word_to_index[\"<UNUSED>\"] = 3\n",
    "    \n",
    "    def wordlist_to_indexlist(wordlist): # 주어진 단어 리스트(wordlist)를 단어 인덱스 리스트로 변환하는 역할\n",
    "        return [word_to_index[word] if word in word_to_index else word_to_index[''] for word in wordlist]\n",
    "        \n",
    "    # 텍스트를 인덱스로 변환\n",
    "    X_train = list(map(wordlist_to_indexlist, X_train))\n",
    "    X_test = list(map(wordlist_to_indexlist, X_test))\n",
    "        \n",
    "    return X_train, np.array(list(train_data['label'])), X_test, np.array(list(test_data['label'])), word_to_index\n",
    "    \n",
    "X_train, y_train, X_test, y_test, word_to_index = load_data(train_data, test_data) "
   ]
  },
  {
   "cell_type": "code",
   "execution_count": 4,
   "id": "ee1d527e",
   "metadata": {},
   "outputs": [],
   "source": [
    "index_to_word = {index:word for word, index in word_to_index.items()} # 인덱스로 표현된 데이터를 다시 텍스트로 변환"
   ]
  },
  {
   "cell_type": "code",
   "execution_count": 5,
   "id": "d2e66b03",
   "metadata": {},
   "outputs": [],
   "source": [
    "# 문장 1개를 활용할 딕셔너리와 함께 주면, 단어 인덱스 리스트 벡터로 변환해 주는 함수입니다. \n",
    "# 단, 모든 문장은 <BOS>로 시작하는 것으로 합니다. \n",
    "def get_encoded_sentence(sentence, word_to_index):\n",
    "    return [word_to_index['<BOS>']]+[word_to_index[word] if word in word_to_index else word_to_index['<UNK>'] for word in sentence.split()]\n",
    "\n",
    "# 여러 개의 문장 리스트를 한꺼번에 단어 인덱스 리스트 벡터로 encode해 주는 함수입니다. \n",
    "def get_encoded_sentences(sentences, word_to_index):\n",
    "    return [get_encoded_sentence(sentence, word_to_index) for sentence in sentences]\n",
    "\n",
    "# 숫자 벡터로 encode된 문장을 원래대로 decode하는 함수입니다. \n",
    "def get_decoded_sentence(encoded_sentence, index_to_word):\n",
    "    return ' '.join(index_to_word[index] if index in index_to_word else '<UNK>' for index in encoded_sentence[1:])  #[1:]를 통해 <BOS>를 제외\n",
    "\n",
    "# 여러 개의 숫자 벡터로 encode된 문장을 한꺼번에 원래대로 decode하는 함수입니다. \n",
    "def get_decoded_sentences(encoded_sentences, index_to_word):\n",
    "    return [get_decoded_sentence(encoded_sentence, index_to_word) for encoded_sentence in encoded_sentences]"
   ]
  },
  {
   "cell_type": "markdown",
   "id": "b20ce10a",
   "metadata": {},
   "source": [
    "3) 모델 구성을 위한 데이터 분석 및 가공\n",
    "- 데이터셋 내 문장 길이 분포\n",
    "- 적절한 최대 문장 길이 지정\n",
    "- keras.preprocessing.sequence.pad_sequences 을 활용한 패딩 추가"
   ]
  },
  {
   "cell_type": "code",
   "execution_count": 6,
   "id": "e10fa7df",
   "metadata": {},
   "outputs": [
    {
     "name": "stdout",
     "output_type": "stream",
     "text": [
      "문장길이 평균 :  15.96940191154864\n",
      "문장길이 최대 :  116\n",
      "문장길이 표준편차 :  12.843571191092\n",
      "pad_sequences maxlen :  41\n",
      "전체 문장의 0.9342988343341575%가 maxlen 설정값 이내에 포함됩니다. \n"
     ]
    }
   ],
   "source": [
    "total_data_text = list(X_train) + list(X_test)\n",
    "# 텍스트데이터 문장길이의 리스트를 생성한 후\n",
    "num_tokens = [len(tokens) for tokens in total_data_text]\n",
    "num_tokens = np.array(num_tokens)\n",
    "# 문장길이의 평균값, 최대값, 표준편차를 계산해 본다. \n",
    "print('문장길이 평균 : ', np.mean(num_tokens))\n",
    "print('문장길이 최대 : ', np.max(num_tokens))\n",
    "print('문장길이 표준편차 : ', np.std(num_tokens))\n",
    "\n",
    "# 예를들어, 최대 길이를 (평균 + 2*표준편차)로 한다면,  \n",
    "max_tokens = np.mean(num_tokens) + 2 * np.std(num_tokens)\n",
    "maxlen = int(max_tokens)\n",
    "print('pad_sequences maxlen : ', maxlen)\n",
    "print(f'전체 문장의 {np.sum(num_tokens < max_tokens) / len(num_tokens)}%가 maxlen 설정값 이내에 포함됩니다. ')"
   ]
  },
  {
   "cell_type": "code",
   "execution_count": 7,
   "id": "04ccfe7c",
   "metadata": {},
   "outputs": [
    {
     "name": "stdout",
     "output_type": "stream",
     "text": [
      "(146182, 41)\n"
     ]
    }
   ],
   "source": [
    "X_train = tf.keras.preprocessing.sequence.pad_sequences(X_train,\n",
    "                                                        value= word_to_index[\"<PAD>\"],\n",
    "                                                        padding='pre', # 혹은 'pre'\n",
    "                                                        maxlen=maxlen)\n",
    "\n",
    "X_test = tf.keras.preprocessing.sequence.pad_sequences(X_test,\n",
    "                                                       value= word_to_index[\"<PAD>\"],\n",
    "                                                       padding='pre', # 혹은 'pre'\n",
    "                                                       maxlen=maxlen)\n",
    "\n",
    "print(X_train.shape)"
   ]
  },
  {
   "cell_type": "markdown",
   "id": "611cacca",
   "metadata": {},
   "source": [
    "4) 모델 구성 및 validation set 구성\n",
    "\n",
    "모델은 3가지 이상 다양하게 구성하여 실험해 보세요."
   ]
  },
  {
   "cell_type": "markdown",
   "id": "5ecd6e09",
   "metadata": {},
   "source": [
    "1. CNN"
   ]
  },
  {
   "cell_type": "code",
   "execution_count": 8,
   "id": "26d78184",
   "metadata": {},
   "outputs": [
    {
     "name": "stdout",
     "output_type": "stream",
     "text": [
      "Model: \"sequential\"\n",
      "_________________________________________________________________\n",
      "Layer (type)                 Output Shape              Param #   \n",
      "=================================================================\n",
      "embedding (Embedding)        (None, None, 16)          160000    \n",
      "_________________________________________________________________\n",
      "conv1d (Conv1D)              (None, None, 16)          1808      \n",
      "_________________________________________________________________\n",
      "max_pooling1d (MaxPooling1D) (None, None, 16)          0         \n",
      "_________________________________________________________________\n",
      "conv1d_1 (Conv1D)            (None, None, 16)          1808      \n",
      "_________________________________________________________________\n",
      "global_max_pooling1d (Global (None, 16)                0         \n",
      "_________________________________________________________________\n",
      "dense (Dense)                (None, 8)                 136       \n",
      "_________________________________________________________________\n",
      "dense_1 (Dense)              (None, 1)                 9         \n",
      "=================================================================\n",
      "Total params: 163,761\n",
      "Trainable params: 163,761\n",
      "Non-trainable params: 0\n",
      "_________________________________________________________________\n"
     ]
    }
   ],
   "source": [
    "vocab_size = 10000    # 어휘 사전의 크기입니다(10,000개의 단어)\n",
    "word_vector_dim = 16  # 워드 벡터의 차원 수 (변경 가능한 하이퍼파라미터)\n",
    "\n",
    "# model 설계 - 딥러닝 모델 코드를 직접 작성해 주세요.\n",
    "model = tf.keras.Sequential()\n",
    "\n",
    "model.add(tf.keras.layers.Embedding(vocab_size, word_vector_dim, input_shape=(None,)))\n",
    "model.add(tf.keras.layers.Conv1D(16, 7, activation='relu'))\n",
    "model.add(tf.keras.layers.MaxPooling1D(5))\n",
    "model.add(tf.keras.layers.Conv1D(16, 7, activation='relu'))\n",
    "model.add(tf.keras.layers.GlobalMaxPooling1D())\n",
    "model.add(tf.keras.layers.Dense(8, activation='relu'))\n",
    "model.add(tf.keras.layers.Dense(1, activation='sigmoid'))  # 최종 출력은 긍정/부정을 나타내는 1dim 입니다.\n",
    "\n",
    "model.summary()"
   ]
  },
  {
   "cell_type": "code",
   "execution_count": 9,
   "id": "20da4f0b",
   "metadata": {},
   "outputs": [
    {
     "name": "stdout",
     "output_type": "stream",
     "text": [
      "Partial Train Data Shape: (116946, 41)\n",
      "Partial Train Labels Shape: (116946,)\n"
     ]
    }
   ],
   "source": [
    "# validation set 20%로 분리\n",
    "split_ratio = 0.2\n",
    "split_index = int(len(X_train) * split_ratio)\n",
    "\n",
    "x_val = X_train[:split_index]\n",
    "y_val = y_train[:split_index]\n",
    "\n",
    "partial_x_train = X_train[split_index:]\n",
    "partial_y_train = y_train[split_index:]\n",
    "\n",
    "print(\"Partial Train Data Shape:\", partial_x_train.shape)\n",
    "print(\"Partial Train Labels Shape:\", partial_y_train.shape)"
   ]
  },
  {
   "cell_type": "markdown",
   "id": "14f59120",
   "metadata": {},
   "source": [
    "2. RNN"
   ]
  },
  {
   "cell_type": "code",
   "execution_count": 10,
   "id": "450135cb",
   "metadata": {
    "scrolled": true
   },
   "outputs": [
    {
     "name": "stdout",
     "output_type": "stream",
     "text": [
      "Model: \"sequential_1\"\n",
      "_________________________________________________________________\n",
      "Layer (type)                 Output Shape              Param #   \n",
      "=================================================================\n",
      "embedding_1 (Embedding)      (None, None, 16)          160000    \n",
      "_________________________________________________________________\n",
      "simple_rnn (SimpleRNN)       (None, 32)                1568      \n",
      "_________________________________________________________________\n",
      "dense_2 (Dense)              (None, 8)                 264       \n",
      "_________________________________________________________________\n",
      "dense_3 (Dense)              (None, 1)                 9         \n",
      "=================================================================\n",
      "Total params: 161,841\n",
      "Trainable params: 161,841\n",
      "Non-trainable params: 0\n",
      "_________________________________________________________________\n"
     ]
    }
   ],
   "source": [
    "import tensorflow as tf\n",
    "\n",
    "model_rnn = tf.keras.Sequential([\n",
    "    tf.keras.layers.Embedding(vocab_size, word_vector_dim, input_shape=(None,)),\n",
    "    tf.keras.layers.SimpleRNN(32),  # RNN 레이어\n",
    "    tf.keras.layers.Dense(8, activation='relu'),\n",
    "    tf.keras.layers.Dense(1, activation='sigmoid')\n",
    "])\n",
    "\n",
    "model_rnn.summary()"
   ]
  },
  {
   "cell_type": "code",
   "execution_count": 11,
   "id": "8cdb1656",
   "metadata": {},
   "outputs": [
    {
     "name": "stdout",
     "output_type": "stream",
     "text": [
      "Partial Train Data Shape: (116946, 41)\n",
      "Partial Train Labels Shape: (116946,)\n"
     ]
    }
   ],
   "source": [
    "# validation set 20%로 분리\n",
    "split_ratio = 0.2\n",
    "split_index = int(len(X_train) * split_ratio)\n",
    "\n",
    "x_val = X_train[:split_index]\n",
    "y_val = y_train[:split_index]\n",
    "\n",
    "partial_x_train = X_train[split_index:]\n",
    "partial_y_train = y_train[split_index:]\n",
    "\n",
    "print(\"Partial Train Data Shape:\", partial_x_train.shape)\n",
    "print(\"Partial Train Labels Shape:\", partial_y_train.shape)"
   ]
  },
  {
   "cell_type": "markdown",
   "id": "080ae12a",
   "metadata": {},
   "source": [
    "3. GlobalMaxPooling"
   ]
  },
  {
   "cell_type": "code",
   "execution_count": 12,
   "id": "dda3ce20",
   "metadata": {},
   "outputs": [
    {
     "name": "stdout",
     "output_type": "stream",
     "text": [
      "Model: \"sequential_2\"\n",
      "_________________________________________________________________\n",
      "Layer (type)                 Output Shape              Param #   \n",
      "=================================================================\n",
      "embedding_2 (Embedding)      (None, None, 16)          160000    \n",
      "_________________________________________________________________\n",
      "global_max_pooling1d_1 (Glob (None, 16)                0         \n",
      "_________________________________________________________________\n",
      "dense_4 (Dense)              (None, 8)                 136       \n",
      "_________________________________________________________________\n",
      "dense_5 (Dense)              (None, 1)                 9         \n",
      "=================================================================\n",
      "Total params: 160,145\n",
      "Trainable params: 160,145\n",
      "Non-trainable params: 0\n",
      "_________________________________________________________________\n"
     ]
    }
   ],
   "source": [
    "import tensorflow as tf\n",
    "\n",
    "model_globalmax = tf.keras.Sequential([\n",
    "    tf.keras.layers.Embedding(vocab_size, word_vector_dim, input_shape=(None,)),\n",
    "    tf.keras.layers.GlobalMaxPooling1D(),  # GlobalMaxPooling 레이어\n",
    "    tf.keras.layers.Dense(8, activation='relu'),\n",
    "    tf.keras.layers.Dense(1, activation='sigmoid')\n",
    "])\n",
    "\n",
    "model_globalmax.summary()"
   ]
  },
  {
   "cell_type": "code",
   "execution_count": 13,
   "id": "f2b35a3d",
   "metadata": {},
   "outputs": [
    {
     "name": "stdout",
     "output_type": "stream",
     "text": [
      "Partial Train Data Shape: (116946, 41)\n",
      "Partial Train Labels Shape: (116946,)\n"
     ]
    }
   ],
   "source": [
    "# validation set 20%로 분리\n",
    "split_ratio = 0.2\n",
    "split_index = int(len(X_train) * split_ratio)\n",
    "\n",
    "x_val = X_train[:split_index]\n",
    "y_val = y_train[:split_index]\n",
    "\n",
    "partial_x_train = X_train[split_index:]\n",
    "partial_y_train = y_train[split_index:]\n",
    "\n",
    "print(\"Partial Train Data Shape:\", partial_x_train.shape)\n",
    "print(\"Partial Train Labels Shape:\", partial_y_train.shape)"
   ]
  },
  {
   "cell_type": "markdown",
   "id": "780120e6",
   "metadata": {},
   "source": [
    "5) 모델 훈련 개시"
   ]
  },
  {
   "cell_type": "markdown",
   "id": "427d520d",
   "metadata": {},
   "source": [
    "1. CNN"
   ]
  },
  {
   "cell_type": "code",
   "execution_count": 14,
   "id": "ae486297",
   "metadata": {
    "scrolled": true
   },
   "outputs": [
    {
     "name": "stdout",
     "output_type": "stream",
     "text": [
      "Epoch 1/20\n",
      "229/229 [==============================] - 4s 6ms/step - loss: 0.4982 - accuracy: 0.7512 - val_loss: 0.3560 - val_accuracy: 0.8445\n",
      "Epoch 2/20\n",
      "229/229 [==============================] - 1s 5ms/step - loss: 0.3303 - accuracy: 0.8596 - val_loss: 0.3387 - val_accuracy: 0.8535\n",
      "Epoch 3/20\n",
      "229/229 [==============================] - 1s 5ms/step - loss: 0.2962 - accuracy: 0.8771 - val_loss: 0.3389 - val_accuracy: 0.8548\n",
      "Epoch 4/20\n",
      "229/229 [==============================] - 1s 5ms/step - loss: 0.2685 - accuracy: 0.8910 - val_loss: 0.3387 - val_accuracy: 0.8559\n",
      "Epoch 5/20\n",
      "229/229 [==============================] - 1s 5ms/step - loss: 0.2377 - accuracy: 0.9067 - val_loss: 0.3496 - val_accuracy: 0.8555\n",
      "Epoch 6/20\n",
      "229/229 [==============================] - 1s 5ms/step - loss: 0.2039 - accuracy: 0.9237 - val_loss: 0.3717 - val_accuracy: 0.8498\n",
      "Epoch 7/20\n",
      "229/229 [==============================] - 1s 5ms/step - loss: 0.1716 - accuracy: 0.9388 - val_loss: 0.4107 - val_accuracy: 0.8449\n",
      "Epoch 8/20\n",
      "229/229 [==============================] - 1s 5ms/step - loss: 0.1420 - accuracy: 0.9518 - val_loss: 0.4469 - val_accuracy: 0.8442\n",
      "Epoch 9/20\n",
      "229/229 [==============================] - 1s 5ms/step - loss: 0.1185 - accuracy: 0.9613 - val_loss: 0.4830 - val_accuracy: 0.8398\n",
      "Epoch 10/20\n",
      "229/229 [==============================] - 1s 5ms/step - loss: 0.0999 - accuracy: 0.9685 - val_loss: 0.5245 - val_accuracy: 0.8360\n",
      "Epoch 11/20\n",
      "229/229 [==============================] - 1s 5ms/step - loss: 0.0849 - accuracy: 0.9738 - val_loss: 0.5792 - val_accuracy: 0.8311\n",
      "Epoch 12/20\n",
      "229/229 [==============================] - 1s 5ms/step - loss: 0.0730 - accuracy: 0.9787 - val_loss: 0.6086 - val_accuracy: 0.8295\n",
      "Epoch 13/20\n",
      "229/229 [==============================] - 1s 5ms/step - loss: 0.0641 - accuracy: 0.9809 - val_loss: 0.6541 - val_accuracy: 0.8282\n",
      "Epoch 14/20\n",
      "229/229 [==============================] - 1s 5ms/step - loss: 0.0563 - accuracy: 0.9840 - val_loss: 0.6939 - val_accuracy: 0.8257\n",
      "Epoch 15/20\n",
      "229/229 [==============================] - 1s 5ms/step - loss: 0.0518 - accuracy: 0.9851 - val_loss: 0.7629 - val_accuracy: 0.8248\n",
      "Epoch 16/20\n",
      "229/229 [==============================] - 1s 5ms/step - loss: 0.0471 - accuracy: 0.9868 - val_loss: 0.7859 - val_accuracy: 0.8232\n",
      "Epoch 17/20\n",
      "229/229 [==============================] - 1s 5ms/step - loss: 0.0428 - accuracy: 0.9881 - val_loss: 0.8248 - val_accuracy: 0.8216\n",
      "Epoch 18/20\n",
      "229/229 [==============================] - 1s 5ms/step - loss: 0.0405 - accuracy: 0.9884 - val_loss: 0.8625 - val_accuracy: 0.8222\n",
      "Epoch 19/20\n",
      "229/229 [==============================] - 1s 5ms/step - loss: 0.0397 - accuracy: 0.9886 - val_loss: 0.8792 - val_accuracy: 0.8190\n",
      "Epoch 20/20\n",
      "229/229 [==============================] - 1s 5ms/step - loss: 0.0375 - accuracy: 0.9892 - val_loss: 0.8893 - val_accuracy: 0.8196\n"
     ]
    }
   ],
   "source": [
    "model.compile(optimizer='adam',\n",
    "              loss='binary_crossentropy',\n",
    "              metrics=['accuracy'])\n",
    "              \n",
    "epochs=20  # 몇 epoch를 훈련하면 좋을지 결과를 보면서 바꾸어 봅시다. \n",
    "\n",
    "history = model.fit(partial_x_train,\n",
    "                    partial_y_train,\n",
    "                    epochs=epochs,\n",
    "                    batch_size=512,\n",
    "                    validation_data=(x_val, y_val),\n",
    "                    verbose=1)"
   ]
  },
  {
   "cell_type": "code",
   "execution_count": 15,
   "id": "7ca4b62e",
   "metadata": {},
   "outputs": [
    {
     "name": "stdout",
     "output_type": "stream",
     "text": [
      "1537/1537 - 2s - loss: 0.9096 - accuracy: 0.8150\n",
      "[0.9096460342407227, 0.8150416016578674]\n"
     ]
    }
   ],
   "source": [
    "results = model.evaluate(X_test,  y_test, verbose=2)\n",
    "\n",
    "print(results)"
   ]
  },
  {
   "cell_type": "markdown",
   "id": "8a3f14b1",
   "metadata": {},
   "source": [
    "2. RNN"
   ]
  },
  {
   "cell_type": "code",
   "execution_count": 16,
   "id": "eeacf61b",
   "metadata": {},
   "outputs": [
    {
     "name": "stdout",
     "output_type": "stream",
     "text": [
      "Epoch 1/20\n",
      "229/229 [==============================] - 9s 35ms/step - loss: 0.5400 - accuracy: 0.7259 - val_loss: 0.3824 - val_accuracy: 0.8390\n",
      "Epoch 2/20\n",
      "229/229 [==============================] - 8s 34ms/step - loss: 0.3503 - accuracy: 0.8509 - val_loss: 0.3573 - val_accuracy: 0.8419\n",
      "Epoch 3/20\n",
      "229/229 [==============================] - 8s 34ms/step - loss: 0.3194 - accuracy: 0.8667 - val_loss: 0.3502 - val_accuracy: 0.8506\n",
      "Epoch 4/20\n",
      "229/229 [==============================] - 8s 34ms/step - loss: 0.2950 - accuracy: 0.8793 - val_loss: 0.3562 - val_accuracy: 0.8472\n",
      "Epoch 5/20\n",
      "229/229 [==============================] - 8s 34ms/step - loss: 0.2662 - accuracy: 0.8953 - val_loss: 0.3824 - val_accuracy: 0.8403\n",
      "Epoch 6/20\n",
      "229/229 [==============================] - 8s 35ms/step - loss: 0.2344 - accuracy: 0.9111 - val_loss: 0.4068 - val_accuracy: 0.8400\n",
      "Epoch 7/20\n",
      "229/229 [==============================] - 8s 34ms/step - loss: 0.2015 - accuracy: 0.9256 - val_loss: 0.4453 - val_accuracy: 0.8330\n",
      "Epoch 8/20\n",
      "229/229 [==============================] - 8s 34ms/step - loss: 0.1943 - accuracy: 0.9287 - val_loss: 0.4784 - val_accuracy: 0.8279\n",
      "Epoch 9/20\n",
      "229/229 [==============================] - 8s 34ms/step - loss: 0.1566 - accuracy: 0.9457 - val_loss: 0.5305 - val_accuracy: 0.8214\n",
      "Epoch 10/20\n",
      "229/229 [==============================] - 8s 34ms/step - loss: 0.1379 - accuracy: 0.9526 - val_loss: 0.5685 - val_accuracy: 0.8200\n",
      "Epoch 11/20\n",
      "229/229 [==============================] - 8s 35ms/step - loss: 0.1225 - accuracy: 0.9594 - val_loss: 0.6121 - val_accuracy: 0.8136\n",
      "Epoch 12/20\n",
      "229/229 [==============================] - 8s 34ms/step - loss: 0.1100 - accuracy: 0.9642 - val_loss: 0.6598 - val_accuracy: 0.8089\n",
      "Epoch 13/20\n",
      "229/229 [==============================] - 8s 34ms/step - loss: 0.1026 - accuracy: 0.9667 - val_loss: 0.6908 - val_accuracy: 0.8079\n",
      "Epoch 14/20\n",
      "229/229 [==============================] - 8s 35ms/step - loss: 0.0931 - accuracy: 0.9700 - val_loss: 0.7686 - val_accuracy: 0.7931\n",
      "Epoch 15/20\n",
      "229/229 [==============================] - 8s 34ms/step - loss: 0.0858 - accuracy: 0.9728 - val_loss: 0.7636 - val_accuracy: 0.8085\n",
      "Epoch 16/20\n",
      "229/229 [==============================] - 8s 35ms/step - loss: 0.0809 - accuracy: 0.9737 - val_loss: 0.7995 - val_accuracy: 0.8087\n",
      "Epoch 17/20\n",
      "229/229 [==============================] - 8s 34ms/step - loss: 0.0770 - accuracy: 0.9755 - val_loss: 0.8356 - val_accuracy: 0.7991\n",
      "Epoch 18/20\n",
      "229/229 [==============================] - 8s 34ms/step - loss: 0.0712 - accuracy: 0.9778 - val_loss: 0.8749 - val_accuracy: 0.7982\n",
      "Epoch 19/20\n",
      "229/229 [==============================] - 8s 34ms/step - loss: 0.0676 - accuracy: 0.9787 - val_loss: 0.9252 - val_accuracy: 0.7910\n",
      "Epoch 20/20\n",
      "229/229 [==============================] - 8s 34ms/step - loss: 0.0723 - accuracy: 0.9770 - val_loss: 0.8428 - val_accuracy: 0.8069\n"
     ]
    }
   ],
   "source": [
    "model_rnn.compile(optimizer='adam',\n",
    "                  loss='binary_crossentropy',\n",
    "                  metrics=['accuracy'])\n",
    "\n",
    "epochs=20  # 몇 epoch를 훈련하면 좋을지 결과를 보면서 바꾸어 봅시다.\n",
    "\n",
    "history_rnn = model_rnn.fit(partial_x_train,\n",
    "                            partial_y_train,\n",
    "                            epochs=epochs,\n",
    "                            batch_size=512,\n",
    "                            validation_data=(x_val, y_val),\n",
    "                            verbose=1)"
   ]
  },
  {
   "cell_type": "code",
   "execution_count": 17,
   "id": "2519ed1f",
   "metadata": {},
   "outputs": [
    {
     "name": "stdout",
     "output_type": "stream",
     "text": [
      "1537/1537 - 6s - loss: 0.8681 - accuracy: 0.8016\n",
      "[0.868053138256073, 0.8016355633735657]\n"
     ]
    }
   ],
   "source": [
    "results_rnn = model_rnn.evaluate(X_test,  y_test, verbose=2)\n",
    "print(results_rnn)"
   ]
  },
  {
   "cell_type": "markdown",
   "id": "255c100a",
   "metadata": {},
   "source": [
    "3. GlobalMaxPooling"
   ]
  },
  {
   "cell_type": "code",
   "execution_count": 18,
   "id": "6dc1a45c",
   "metadata": {},
   "outputs": [
    {
     "name": "stdout",
     "output_type": "stream",
     "text": [
      "Epoch 1/20\n",
      "229/229 [==============================] - 2s 4ms/step - loss: 0.5935 - accuracy: 0.7567 - val_loss: 0.4377 - val_accuracy: 0.8197\n",
      "Epoch 2/20\n",
      "229/229 [==============================] - 1s 4ms/step - loss: 0.3833 - accuracy: 0.8369 - val_loss: 0.3624 - val_accuracy: 0.8409\n",
      "Epoch 3/20\n",
      "229/229 [==============================] - 1s 3ms/step - loss: 0.3292 - accuracy: 0.8605 - val_loss: 0.3501 - val_accuracy: 0.8443\n",
      "Epoch 4/20\n",
      "229/229 [==============================] - 1s 4ms/step - loss: 0.3011 - accuracy: 0.8739 - val_loss: 0.3499 - val_accuracy: 0.8476\n",
      "Epoch 5/20\n",
      "229/229 [==============================] - 1s 4ms/step - loss: 0.2808 - accuracy: 0.8839 - val_loss: 0.3527 - val_accuracy: 0.8490\n",
      "Epoch 6/20\n",
      "229/229 [==============================] - 1s 3ms/step - loss: 0.2641 - accuracy: 0.8927 - val_loss: 0.3595 - val_accuracy: 0.8477\n",
      "Epoch 7/20\n",
      "229/229 [==============================] - 1s 4ms/step - loss: 0.2502 - accuracy: 0.8997 - val_loss: 0.3654 - val_accuracy: 0.8467\n",
      "Epoch 8/20\n",
      "229/229 [==============================] - 1s 3ms/step - loss: 0.2376 - accuracy: 0.9052 - val_loss: 0.3738 - val_accuracy: 0.8450\n",
      "Epoch 9/20\n",
      "229/229 [==============================] - 1s 3ms/step - loss: 0.2262 - accuracy: 0.9116 - val_loss: 0.3826 - val_accuracy: 0.8445\n",
      "Epoch 10/20\n",
      "229/229 [==============================] - 1s 3ms/step - loss: 0.2161 - accuracy: 0.9157 - val_loss: 0.3921 - val_accuracy: 0.8432\n",
      "Epoch 11/20\n",
      "229/229 [==============================] - 1s 4ms/step - loss: 0.2064 - accuracy: 0.9210 - val_loss: 0.4033 - val_accuracy: 0.8426\n",
      "Epoch 12/20\n",
      "229/229 [==============================] - 1s 3ms/step - loss: 0.1975 - accuracy: 0.9244 - val_loss: 0.4148 - val_accuracy: 0.8400\n",
      "Epoch 13/20\n",
      "229/229 [==============================] - 1s 3ms/step - loss: 0.1897 - accuracy: 0.9288 - val_loss: 0.4257 - val_accuracy: 0.8387\n",
      "Epoch 14/20\n",
      "229/229 [==============================] - 1s 3ms/step - loss: 0.1822 - accuracy: 0.9323 - val_loss: 0.4369 - val_accuracy: 0.8372\n",
      "Epoch 15/20\n",
      "229/229 [==============================] - 1s 3ms/step - loss: 0.1757 - accuracy: 0.9351 - val_loss: 0.4491 - val_accuracy: 0.8371\n",
      "Epoch 16/20\n",
      "229/229 [==============================] - 1s 3ms/step - loss: 0.1695 - accuracy: 0.9378 - val_loss: 0.4613 - val_accuracy: 0.8347\n",
      "Epoch 17/20\n",
      "229/229 [==============================] - 1s 3ms/step - loss: 0.1636 - accuracy: 0.9405 - val_loss: 0.4720 - val_accuracy: 0.8346\n",
      "Epoch 18/20\n",
      "229/229 [==============================] - 1s 3ms/step - loss: 0.1581 - accuracy: 0.9432 - val_loss: 0.4858 - val_accuracy: 0.8317\n",
      "Epoch 19/20\n",
      "229/229 [==============================] - 1s 3ms/step - loss: 0.1529 - accuracy: 0.9453 - val_loss: 0.4966 - val_accuracy: 0.8308\n",
      "Epoch 20/20\n",
      "229/229 [==============================] - 1s 3ms/step - loss: 0.1483 - accuracy: 0.9470 - val_loss: 0.5096 - val_accuracy: 0.8300\n"
     ]
    }
   ],
   "source": [
    "model_globalmax.compile(optimizer='adam',\n",
    "                        loss='binary_crossentropy',\n",
    "                        metrics=['accuracy'])\n",
    "\n",
    "epochs=20  # 몇 epoch를 훈련하면 좋을지 결과를 보면서 바꾸어 봅시다.\n",
    "\n",
    "history_globalmax = model_globalmax.fit(partial_x_train,\n",
    "                                        partial_y_train,\n",
    "                                        epochs=epochs,\n",
    "                                        batch_size=512,\n",
    "                                        validation_data=(x_val, y_val),\n",
    "                                        verbose=1)"
   ]
  },
  {
   "cell_type": "code",
   "execution_count": 19,
   "id": "f533d4e1",
   "metadata": {},
   "outputs": [
    {
     "name": "stdout",
     "output_type": "stream",
     "text": [
      "1537/1537 - 2s - loss: 0.5303 - accuracy: 0.8242\n",
      "[0.5302691459655762, 0.824195921421051]\n"
     ]
    }
   ],
   "source": [
    "results_globalmax = model_globalmax.evaluate(X_test,  y_test, verbose=2)\n",
    "print(results_globalmax)"
   ]
  },
  {
   "cell_type": "markdown",
   "id": "4c57eb3d",
   "metadata": {},
   "source": [
    "6) Loss, Accuracy 그래프 시각화"
   ]
  },
  {
   "cell_type": "markdown",
   "id": "834c62d0",
   "metadata": {},
   "source": [
    "1. CNN"
   ]
  },
  {
   "cell_type": "code",
   "execution_count": 20,
   "id": "adf74f00",
   "metadata": {},
   "outputs": [
    {
     "name": "stdout",
     "output_type": "stream",
     "text": [
      "dict_keys(['loss', 'accuracy', 'val_loss', 'val_accuracy'])\n"
     ]
    }
   ],
   "source": [
    "history_dict = history.history\n",
    "print(history_dict.keys()) # epoch에 따른 그래프를 그려볼 수 있는 항목들"
   ]
  },
  {
   "cell_type": "code",
   "execution_count": 21,
   "id": "70b9a9b4",
   "metadata": {},
   "outputs": [
    {
     "data": {
      "image/png": "[encoded data removed]",
      "text/plain": [
       "<Figure size 432x288 with 1 Axes>"
      ]
     },
     "metadata": {
      "needs_background": "light"
     },
     "output_type": "display_data"
    }
   ],
   "source": [
    "import matplotlib.pyplot as plt\n",
    "\n",
    "acc = history_dict['accuracy']\n",
    "val_acc = history_dict['val_accuracy']\n",
    "loss = history_dict['loss']\n",
    "val_loss = history_dict['val_loss']\n",
    "\n",
    "epochs = range(1, len(acc) + 1)\n",
    "\n",
    "# \"bo\"는 \"파란색 점\"입니다\n",
    "plt.plot(epochs, loss, 'bo', label='Training loss')\n",
    "# b는 \"파란 실선\"입니다\n",
    "plt.plot(epochs, val_loss, 'b', label='Validation loss')\n",
    "plt.title('Training and validation loss')\n",
    "plt.xlabel('Epochs')\n",
    "plt.ylabel('Loss')\n",
    "plt.legend()\n",
    "\n",
    "plt.show()"
   ]
  },
  {
   "cell_type": "code",
   "execution_count": 22,
   "id": "3c3474ad",
   "metadata": {},
   "outputs": [
    {
     "data": {
      "image/png": "[encoded data removed]",
      "text/plain": [
       "<Figure size 432x288 with 1 Axes>"
      ]
     },
     "metadata": {
      "needs_background": "light"
     },
     "output_type": "display_data"
    }
   ],
   "source": [
    "plt.clf()   # 그림을 초기화합니다\n",
    "\n",
    "plt.plot(epochs, acc, 'bo', label='Training acc')\n",
    "plt.plot(epochs, val_acc, 'b', label='Validation acc')\n",
    "plt.title('Training and validation accuracy')\n",
    "plt.xlabel('Epochs')\n",
    "plt.ylabel('Accuracy')\n",
    "plt.legend()\n",
    "\n",
    "plt.show()"
   ]
  },
  {
   "cell_type": "markdown",
   "id": "d9b2434f",
   "metadata": {},
   "source": [
    "2. RNN"
   ]
  },
  {
   "cell_type": "code",
   "execution_count": 23,
   "id": "f1b934ec",
   "metadata": {},
   "outputs": [
    {
     "name": "stdout",
     "output_type": "stream",
     "text": [
      "dict_keys(['loss', 'accuracy', 'val_loss', 'val_accuracy'])\n"
     ]
    }
   ],
   "source": [
    "history_dict_rnn = history_rnn.history\n",
    "print(history_dict_rnn.keys()) # epoch에 따른 그래프를 그려볼 수 있는 항목들"
   ]
  },
  {
   "cell_type": "code",
   "execution_count": 24,
   "id": "90b75560",
   "metadata": {},
   "outputs": [
    {
     "data": {
      "image/png": "[encoded data removed]",
      "text/plain": [
       "<Figure size 432x288 with 1 Axes>"
      ]
     },
     "metadata": {
      "needs_background": "light"
     },
     "output_type": "display_data"
    }
   ],
   "source": [
    "import matplotlib.pyplot as plt\n",
    "\n",
    "acc_rnn = history_dict_rnn['accuracy']\n",
    "val_acc_rnn = history_dict_rnn['val_accuracy']\n",
    "loss_rnn = history_dict_rnn['loss']\n",
    "val_loss_rnn = history_dict_rnn['val_loss']\n",
    "\n",
    "epochs_rnn = range(1, len(acc_rnn) + 1)\n",
    "\n",
    "# \"bo\"는 \"파란색 점\"입니다\n",
    "plt.plot(epochs_rnn, loss_rnn, 'bo', label='Training loss')\n",
    "# b는 \"파란 실선\"입니다\n",
    "plt.plot(epochs_rnn, val_loss_rnn, 'b', label='Validation loss')\n",
    "plt.title('RNN Training and validation loss')\n",
    "plt.xlabel('Epochs')\n",
    "plt.ylabel('Loss')\n",
    "plt.legend()\n",
    "\n",
    "plt.show()"
   ]
  },
  {
   "cell_type": "code",
   "execution_count": 25,
   "id": "9ae86250",
   "metadata": {},
   "outputs": [
    {
     "data": {
      "image/png": "[encoded data removed]",
      "text/plain": [
       "<Figure size 432x288 with 1 Axes>"
      ]
     },
     "metadata": {
      "needs_background": "light"
     },
     "output_type": "display_data"
    }
   ],
   "source": [
    "plt.clf()   # 그림을 초기화합니다\n",
    "\n",
    "plt.plot(epochs_rnn, acc_rnn, 'bo', label='Training acc')\n",
    "plt.plot(epochs_rnn, val_acc_rnn, 'b', label='Validation acc')\n",
    "plt.title('RNN Training and validation accuracy')\n",
    "plt.xlabel('Epochs')\n",
    "plt.ylabel('Accuracy')\n",
    "plt.legend()\n",
    "\n",
    "plt.show()"
   ]
  },
  {
   "cell_type": "markdown",
   "id": "f550f63b",
   "metadata": {},
   "source": [
    "3. GlobalMaxPooling"
   ]
  },
  {
   "cell_type": "code",
   "execution_count": 26,
   "id": "35781614",
   "metadata": {},
   "outputs": [
    {
     "name": "stdout",
     "output_type": "stream",
     "text": [
      "dict_keys(['loss', 'accuracy', 'val_loss', 'val_accuracy'])\n"
     ]
    }
   ],
   "source": [
    "history_dict_globalmax = history_globalmax.history\n",
    "print(history_dict_globalmax.keys()) # epoch에 따른 그래프를 그려볼 수 있는 항목들"
   ]
  },
  {
   "cell_type": "code",
   "execution_count": 27,
   "id": "c0ba127a",
   "metadata": {},
   "outputs": [
    {
     "data": {
      "image/png": "[encoded data removed]",
      "text/plain": [
       "<Figure size 432x288 with 1 Axes>"
      ]
     },
     "metadata": {
      "needs_background": "light"
     },
     "output_type": "display_data"
    }
   ],
   "source": [
    "import matplotlib.pyplot as plt\n",
    "acc_globalmax = history_dict_globalmax['accuracy']\n",
    "val_acc_globalmax = history_dict_globalmax['val_accuracy']\n",
    "loss_globalmax = history_dict_globalmax['loss']\n",
    "val_loss_globalmax = history_dict_globalmax['val_loss']\n",
    "\n",
    "epochs_globalmax = range(1, len(acc_globalmax) + 1)\n",
    "\n",
    "# \"bo\"는 \"파란색 점\"입니다\n",
    "plt.plot(epochs_globalmax, loss_globalmax, 'bo', label='Training loss')\n",
    "# b는 \"파란 실선\"입니다\n",
    "plt.plot(epochs_globalmax, val_loss_globalmax, 'b', label='Validation loss')\n",
    "plt.title('GlobalMaxPooling Training and validation loss')\n",
    "plt.xlabel('Epochs')\n",
    "plt.ylabel('Loss')\n",
    "plt.legend()\n",
    "\n",
    "plt.show()"
   ]
  },
  {
   "cell_type": "code",
   "execution_count": 28,
   "id": "a44f8fdf",
   "metadata": {
    "scrolled": true
   },
   "outputs": [
    {
     "data": {
      "image/png": "[encoded data removed]",
      "text/plain": [
       "<Figure size 432x288 with 1 Axes>"
      ]
     },
     "metadata": {
      "needs_background": "light"
     },
     "output_type": "display_data"
    }
   ],
   "source": [
    "plt.clf()   # 그림을 초기화합니다\n",
    "\n",
    "plt.plot(epochs_globalmax, acc_globalmax, 'bo', label='Training acc')\n",
    "plt.plot(epochs_globalmax, val_acc_globalmax, 'b', label='Validation acc')\n",
    "plt.title('GlobalMaxPooling Training and validation accuracy')\n",
    "plt.xlabel('Epochs')\n",
    "plt.ylabel('Accuracy')\n",
    "plt.legend()\n",
    "\n",
    "plt.show()"
   ]
  },
  {
   "cell_type": "markdown",
   "id": "ae10aeb2",
   "metadata": {},
   "source": [
    "## model_globalmax가 가장 성능이 좋아서 이 모델을 활용하여 Word2Vec 임베딩"
   ]
  },
  {
   "cell_type": "markdown",
   "id": "70aae806",
   "metadata": {},
   "source": [
    "7) 학습된 Embedding 레이어 분석"
   ]
  },
  {
   "cell_type": "code",
   "execution_count": 29,
   "id": "5fb77429",
   "metadata": {},
   "outputs": [
    {
     "name": "stdout",
     "output_type": "stream",
     "text": [
      "(10000, 16)\n"
     ]
    }
   ],
   "source": [
    "embedding_layer = model_globalmax.layers[0]\n",
    "weights = embedding_layer.get_weights()[0]\n",
    "print(weights.shape)    # shape: (vocab_size, embedding_dim)"
   ]
  },
  {
   "cell_type": "code",
   "execution_count": 31,
   "id": "3bd29687",
   "metadata": {},
   "outputs": [],
   "source": [
    "import os\n",
    "# 학습한 Embedding 파라미터를 파일에 써서 저장합니다. \n",
    "word2vec_file_path = os.getenv('HOME')+'/aiffel/sentiment_classification/data/word2vec.txt'\n",
    "f = open(word2vec_file_path, 'w')\n",
    "f.write('{} {}\\n'.format(vocab_size-4, word_vector_dim))  # 몇개의 벡터를 얼마 사이즈로 기재할지 타이틀을 씁니다.\n",
    "\n",
    "# 단어 개수(에서 특수문자 4개는 제외하고)만큼의 워드 벡터를 파일에 기록합니다. \n",
    "vectors = model.get_weights()[0]\n",
    "for i in range(4,vocab_size):\n",
    "    f.write('{} {}\\n'.format(index_to_word[i], ' '.join(map(str, list(vectors[i, :])))))\n",
    "f.close()"
   ]
  },
  {
   "cell_type": "code",
   "execution_count": 32,
   "id": "63b46825",
   "metadata": {},
   "outputs": [
    {
     "data": {
      "text/plain": [
       "array([ 0.00280247, -0.13985924, -0.05981201, -0.2876865 , -0.05724975,\n",
       "        0.06417481,  0.2117269 ,  0.00250796, -0.12020993, -0.10161265,\n",
       "        0.23077206,  0.07221485,  0.02108956,  0.03238478, -0.06683082,\n",
       "       -0.0317621 ], dtype=float32)"
      ]
     },
     "execution_count": 32,
     "metadata": {},
     "output_type": "execute_result"
    }
   ],
   "source": [
    "from gensim.models.keyedvectors import Word2VecKeyedVectors\n",
    "\n",
    "word_vectors = Word2VecKeyedVectors.load_word2vec_format(word2vec_file_path, binary=False)\n",
    "vector = word_vectors['컴퓨터']\n",
    "vector"
   ]
  },
  {
   "cell_type": "code",
   "execution_count": 33,
   "id": "4d9e0cd1",
   "metadata": {},
   "outputs": [
    {
     "data": {
      "text/plain": [
       "[('쵸', 0.8703039288520813),\n",
       " ('급박', 0.8458642959594727),\n",
       " ('웡', 0.8303399682044983),\n",
       " ('호수', 0.8188667297363281),\n",
       " ('라디오', 0.8050398230552673),\n",
       " ('꿀', 0.8016781806945801),\n",
       " ('감우성', 0.7935614585876465),\n",
       " ('군사', 0.7917578220367432),\n",
       " ('헷', 0.7863737344741821),\n",
       " ('필립', 0.7854158878326416)]"
      ]
     },
     "execution_count": 33,
     "metadata": {},
     "output_type": "execute_result"
    }
   ],
   "source": [
    "word_vectors.similar_by_word(\"사랑\")"
   ]
  },
  {
   "cell_type": "markdown",
   "id": "79f72b19",
   "metadata": {},
   "source": [
    "8) 한국어 Word2Vec 임베딩 활용하여 성능 개선"
   ]
  },
  {
   "cell_type": "code",
   "execution_count": 34,
   "id": "e77d60c6",
   "metadata": {},
   "outputs": [
    {
     "data": {
      "text/plain": [
       "array([ 1.038851  , -1.1634965 ,  2.2386286 ,  0.8971453 , -2.088168  ,\n",
       "       -4.1942534 , -0.02519768, -0.69813883, -0.2908033 , -1.4651134 ,\n",
       "       -2.6863668 ,  0.7999443 , -0.6957915 , -0.5018775 ,  3.5025773 ,\n",
       "        0.21326113, -0.6588098 , -1.1900496 ,  0.61399573,  2.1247969 ,\n",
       "        0.1549463 ,  3.0840218 ,  3.1680267 , -3.9143991 ,  3.6073153 ,\n",
       "        0.5315545 , -0.3511633 , -1.107248  ,  1.7767181 , -0.95981866,\n",
       "        2.6072454 , -0.00697957, -3.27628   ,  1.558644  ,  0.81922376,\n",
       "        1.9231955 ,  3.7026553 , -0.53824735, -0.4920138 ,  2.4657123 ,\n",
       "       -2.620749  , -0.08950733,  0.61453176,  1.8866426 ,  0.257866  ,\n",
       "       -2.7827141 ,  2.9129577 , -0.6313133 ,  2.0387425 , -4.222685  ,\n",
       "       -2.7560544 ,  1.7903243 , -1.3080189 , -2.5531402 , -0.43849912,\n",
       "       -3.1073573 , -0.29090825,  5.1817617 ,  1.9604833 , -5.1421604 ,\n",
       "       -0.71431434,  4.5624633 , -0.55525815, -3.3019137 ,  1.6761336 ,\n",
       "       -1.9606539 , -0.2726863 ,  0.2465995 ,  1.2685091 ,  1.6055685 ,\n",
       "        1.8344896 ,  1.2752469 ,  0.99503314, -2.3348706 , -0.9290329 ,\n",
       "       -1.5920266 ,  5.693834  ,  1.1132814 , -0.9603875 , -1.970055  ,\n",
       "       -1.0120267 , -2.7289615 , -2.7759619 ,  3.214084  ,  1.8573734 ,\n",
       "       -1.3495721 , -0.10321241,  3.434593  , -2.8573685 , -1.9004927 ,\n",
       "       -1.6801298 , -2.805677  ,  1.7723105 , -0.41865307, -2.310913  ,\n",
       "       -6.2761464 , -0.8376036 ,  2.4590037 ,  2.1697695 , -4.440443  ],\n",
       "      dtype=float32)"
      ]
     },
     "execution_count": 34,
     "metadata": {},
     "output_type": "execute_result"
    }
   ],
   "source": [
    "import os\n",
    "from gensim.models.keyedvectors import Word2VecKeyedVectors\n",
    "word2vec_path = os.getenv('HOME')+'/data/word2vec_ko.model'\n",
    "word_vectors = Word2VecKeyedVectors.load(word2vec_path)\n",
    "vector = word_vectors.wv['끝']\n",
    "vector"
   ]
  },
  {
   "cell_type": "code",
   "execution_count": 54,
   "id": "ed0ab6d4",
   "metadata": {},
   "outputs": [],
   "source": [
    "vocab_size = 10000    # 어휘 사전의 크기입니다(10,000개의 단어)\n",
    "word_vector_dim = 100  # 워드 벡터의 차원수\n",
    "embedding_matrix = np.random.rand(vocab_size, word_vector_dim)\n",
    "\n",
    "# embedding_matrix에 Word2Vec 워드 벡터를 단어 하나씩마다 차례차례 카피한다.\n",
    "for i in range(4,vocab_size):\n",
    "    if index_to_word[i] in word_vectors.wv:\n",
    "        embedding_matrix[i] = word_vectors.wv[index_to_word[i]]"
   ]
  },
  {
   "cell_type": "code",
   "execution_count": 55,
   "id": "4e04b397",
   "metadata": {},
   "outputs": [
    {
     "name": "stdout",
     "output_type": "stream",
     "text": [
      "Model: \"sequential_9\"\n",
      "_________________________________________________________________\n",
      "Layer (type)                 Output Shape              Param #   \n",
      "=================================================================\n",
      "embedding_9 (Embedding)      (None, 41, 100)           1000000   \n",
      "_________________________________________________________________\n",
      "conv1d_11 (Conv1D)           (None, 35, 16)            11216     \n",
      "_________________________________________________________________\n",
      "max_pooling1d_5 (MaxPooling1 (None, 7, 16)             0         \n",
      "_________________________________________________________________\n",
      "conv1d_12 (Conv1D)           (None, 1, 16)             1808      \n",
      "_________________________________________________________________\n",
      "global_max_pooling1d_8 (Glob (None, 16)                0         \n",
      "_________________________________________________________________\n",
      "dense_18 (Dense)             (None, 8)                 136       \n",
      "_________________________________________________________________\n",
      "dense_19 (Dense)             (None, 1)                 9         \n",
      "=================================================================\n",
      "Total params: 1,013,169\n",
      "Trainable params: 1,013,169\n",
      "Non-trainable params: 0\n",
      "_________________________________________________________________\n"
     ]
    }
   ],
   "source": [
    "from tensorflow.keras.initializers import Constant\n",
    "\n",
    "vocab_size = 10000    # 어휘 사전의 크기입니다(10,000개의 단어)\n",
    "word_vector_dim = 100  # 워드 벡터의 차원 수 \n",
    "\n",
    "# 모델 구성\n",
    "model = tf.keras.Sequential()\n",
    "model.add(tf.keras.layers.Embedding(vocab_size, \n",
    "                                 word_vector_dim, \n",
    "                                 embeddings_initializer=Constant(embedding_matrix),  # 카피한 임베딩을 여기서 활용\n",
    "                                 input_length=maxlen, \n",
    "                                 trainable=True))   # trainable을 True로 주면 Fine-tuning\n",
    "model.add(tf.keras.layers.Conv1D(16, 7, activation='relu'))\n",
    "model.add(tf.keras.layers.MaxPooling1D(5))\n",
    "model.add(tf.keras.layers.Conv1D(16, 7, activation='relu'))\n",
    "model.add(tf.keras.layers.GlobalMaxPooling1D())\n",
    "model.add(tf.keras.layers.Dense(8, activation='relu'))\n",
    "model.add(tf.keras.layers.Dense(1, activation='sigmoid')) \n",
    "\n",
    "model.summary()"
   ]
  },
  {
   "cell_type": "code",
   "execution_count": 56,
   "id": "852ad53e",
   "metadata": {},
   "outputs": [
    {
     "name": "stdout",
     "output_type": "stream",
     "text": [
      "Epoch 1/9\n",
      "229/229 [==============================] - 2s 6ms/step - loss: 0.6056 - accuracy: 0.6508 - val_loss: 0.5059 - val_accuracy: 0.7567\n",
      "Epoch 2/9\n",
      "229/229 [==============================] - 1s 5ms/step - loss: 0.4611 - accuracy: 0.7850 - val_loss: 0.4324 - val_accuracy: 0.8022\n",
      "Epoch 3/9\n",
      "229/229 [==============================] - 1s 5ms/step - loss: 0.3957 - accuracy: 0.8233 - val_loss: 0.3944 - val_accuracy: 0.8228\n",
      "Epoch 4/9\n",
      "229/229 [==============================] - 1s 5ms/step - loss: 0.3548 - accuracy: 0.8451 - val_loss: 0.3743 - val_accuracy: 0.8328\n",
      "Epoch 5/9\n",
      "229/229 [==============================] - 1s 5ms/step - loss: 0.3270 - accuracy: 0.8604 - val_loss: 0.3703 - val_accuracy: 0.8374\n",
      "Epoch 6/9\n",
      "229/229 [==============================] - 1s 5ms/step - loss: 0.3056 - accuracy: 0.8722 - val_loss: 0.3640 - val_accuracy: 0.8397\n",
      "Epoch 7/9\n",
      "229/229 [==============================] - 1s 5ms/step - loss: 0.2884 - accuracy: 0.8812 - val_loss: 0.3663 - val_accuracy: 0.8385\n",
      "Epoch 8/9\n",
      "229/229 [==============================] - 1s 5ms/step - loss: 0.2735 - accuracy: 0.8889 - val_loss: 0.3654 - val_accuracy: 0.8429\n",
      "Epoch 9/9\n",
      "229/229 [==============================] - 1s 5ms/step - loss: 0.2595 - accuracy: 0.8955 - val_loss: 0.3684 - val_accuracy: 0.8432\n"
     ]
    }
   ],
   "source": [
    "# 학습의 진행\n",
    "model.compile(optimizer='adam',\n",
    "              loss='binary_crossentropy',\n",
    "              metrics=['accuracy'])\n",
    "              \n",
    "epochs=9  # 몇 epoch를 훈련하면 좋을지 결과를 보면서 바꾸어 봅시다. \n",
    "\n",
    "history = model.fit(partial_x_train,\n",
    "                    partial_y_train,\n",
    "                    epochs=epochs,\n",
    "                    batch_size=512,\n",
    "                    validation_data=(x_val, y_val),\n",
    "                    verbose=1)"
   ]
  },
  {
   "cell_type": "code",
   "execution_count": 57,
   "id": "f5d854e5",
   "metadata": {},
   "outputs": [
    {
     "name": "stdout",
     "output_type": "stream",
     "text": [
      "1537/1537 - 3s - loss: 0.3770 - accuracy: 0.8415\n",
      "[0.3770425319671631, 0.8415077924728394]\n"
     ]
    }
   ],
   "source": [
    "# 테스트셋을 통한 모델 평가\n",
    "results = model.evaluate(X_test,  y_test, verbose=2)\n",
    "\n",
    "print(results)"
   ]
  },
  {
   "cell_type": "markdown",
   "id": "f45df654",
   "metadata": {},
   "source": [
    "## 정확도가 더 오른것을 확인 할 수 있다"
   ]
  },
  {
   "cell_type": "markdown",
   "id": "d6db6eef",
   "metadata": {},
   "source": [
    "?? vocab_size를 다르게 할 때의 차이는? 10000 vs 100000\n",
    "\n",
    "?? 한국어와 영어 차이"
   ]
  },
  {
   "cell_type": "markdown",
   "id": "436702af",
   "metadata": {},
   "source": [
    "# 회고\n",
    "- 배운 점 : 자연어 처리에 대해 새로 배울 수 있었다.\n",
    "- 아쉬운 점 : 처음 접해보는 거라 어려웠다.\n",
    "- 느낀 점 : epoch을 늘린다고 다 좋은게 아니라는 것을 알게되었다. 차원수를 늘리거나 줄이거나, 모델 레이어를 더 쌓는다거나 하는 방식을 사용해서 정확도를 더 올려볼 수 있을 것 같다."
   ]
  },
  {
   "cell_type": "markdown",
   "id": "de867ca4",
   "metadata": {},
   "source": [
    "https://jiwonkoh.tistory.com/188"
   ]
  }
 ],
 "metadata": {
  "kernelspec": {
   "display_name": "Python 3 (ipykernel)",
   "language": "python",
   "name": "python3"
  },
  "language_info": {
   "codemirror_mode": {
    "name": "ipython",
    "version": 3
   },
   "file_extension": ".py",
   "mimetype": "text/x-python",
   "name": "python",
   "nbconvert_exporter": "python",
   "pygments_lexer": "ipython3",
   "version": "3.9.7"
  }
 },
 "nbformat": 4,
 "nbformat_minor": 5
}
